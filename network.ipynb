{
 "cells": [
  {
   "cell_type": "code",
   "execution_count": 1,
   "metadata": {},
   "outputs": [
    {
     "name": "stdout",
     "output_type": "stream",
     "text": [
      "Filtered data has been saved to filtered_publication_network12.json\n"
     ]
    }
   ],
   "source": [
    "import csv\n",
    "import json\n",
    "\n",
    "# Define the input and output file paths\n",
    "input_csv = 'data_scopus.csv'\n",
    "output_json = 'filtered_publication_network12.json'\n",
    "\n",
    "# Initialize data structures\n",
    "nodes = []\n",
    "links = []\n",
    "authors_dict = {}\n",
    "\n",
    "# Read the CSV file and filter the data\n",
    "with open(input_csv, mode='r', encoding='utf-8') as csvfile:\n",
    "    reader = csv.DictReader(csvfile)\n",
    "    for row in reader:\n",
    "        # Filter out records missing Year, Affiliation, or Author\n",
    "        if not row['Year'] or not row['Authors'] or not row['Authors with affiliations']:\n",
    "            continue\n",
    "        \n",
    "        # Process authors\n",
    "        authors = row['Authors'].split(', ')\n",
    "        for author in authors:\n",
    "            if author not in authors_dict:\n",
    "                authors_dict[author] = {\n",
    "                    'id': author,\n",
    "                    'metadata': {\n",
    "                        'Affiliation': row['Authors with affiliations'],\n",
    "                        'Year': row['Year'],\n",
    "                        'Title': row['Title'],\n",
    "                        'Publisher': row['Publisher']\n",
    "                    }\n",
    "                }\n",
    "        \n",
    "        # Process links (shared publications)\n",
    "        for i in range(len(authors)):\n",
    "            for j in range(i + 1, len(authors)):\n",
    "                links.append({\n",
    "                    'source': authors[i],\n",
    "                    'target': authors[j],\n",
    "                    'title': row['Title'],\n",
    "                    'year': row['Year']\n",
    "                })\n",
    "\n",
    "# Convert authors_dict to a list of nodes\n",
    "nodes = list(authors_dict.values())\n",
    "\n",
    "# Create the final data structure\n",
    "data = {\n",
    "    'nodes': nodes,\n",
    "    'links': links\n",
    "}\n",
    "\n",
    "# Save the data to a JSON file\n",
    "with open(output_json, 'w', encoding='utf-8') as jsonfile:\n",
    "    json.dump(data, jsonfile, indent=4)\n",
    "\n",
    "print(f\"Filtered data has been saved to {output_json}\")"
   ]
  },
  {
   "cell_type": "code",
   "execution_count": null,
   "metadata": {},
   "outputs": [],
   "source": []
  }
 ],
 "metadata": {
  "kernelspec": {
   "display_name": "Python 3",
   "language": "python",
   "name": "python3"
  },
  "language_info": {
   "codemirror_mode": {
    "name": "ipython",
    "version": 3
   },
   "file_extension": ".py",
   "mimetype": "text/x-python",
   "name": "python",
   "nbconvert_exporter": "python",
   "pygments_lexer": "ipython3",
   "version": "3.10.4"
  }
 },
 "nbformat": 4,
 "nbformat_minor": 2
}
